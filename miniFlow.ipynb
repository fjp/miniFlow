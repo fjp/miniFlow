{
 "cells": [
  {
   "cell_type": "markdown",
   "metadata": {},
   "source": [
    "# MiniFlow Architecture\n",
    "small tensorFlow clone"
   ]
  },
  {
   "cell_type": "markdown",
   "metadata": {},
   "source": [
    "## Generic node representation class\n",
    "Each node might receive input from multiple other nodes.\n",
    "each node creates a single output, which will likely be passed to other nodes.\n",
    "\n",
    "Contains two lists:\n",
    "- one to store references to the inbound ndoes.\n",
    "- one to store references to the outbound nodes.\n",
    "\n",
    "Each node will eventually calculate a value that represents its output.\n",
    "- initialize the value to None to indicate that it exists but hasn't been set yet.\n",
    "\n",
    "Each node will need to be able to pass values forward and perform backpropagation.\n",
    "..."
   ]
  },
  {
   "cell_type": "code",
   "execution_count": 5,
   "metadata": {
    "collapsed": false
   },
   "outputs": [],
   "source": [
    "class Node(object):\n",
    "    def __init__(self, inbound_nodes=[]):\n",
    "        # Properties\n",
    "        \n",
    "        # Node(s) from which this Node receives values\n",
    "        self.inbound_nodes = inbound_nodes\n",
    "        # Node(s) to which this Node passes values\n",
    "        self.outbound_nodes = []\n",
    "        # For each inbound Node here, add this NOde as an outbound Node to _that_ Node.\n",
    "        for n in self.inbound_nodes:\n",
    "            n.outbound_nodes.append(self)\n",
    "        \n",
    "        # A calculated value\n",
    "        self.value = None\n",
    "        \n",
    "        def forward(self):\n",
    "            \"\"\"\n",
    "            Forward propagation.\n",
    "            \n",
    "            Compute the output value vased on `inbound_nodes` and store the result in self.value.\n",
    "            \"\"\"\n",
    "            raise NotImplemented"
   ]
  },
  {
   "cell_type": "markdown",
   "metadata": {},
   "source": [
    "## Nodes that Calculate - subclasses\n",
    "While `Node` defines the base set of properties that every node holds, only specialized [subclasses](https://docs.python.org/3/tutorial/classes.html#inheritance) of `Node` will end up in the graph.\n",
    "\n",
    "The following subclasses of `Node` will be created:\n",
    "- `Input`\n",
    "- `Add`"
   ]
  },
  {
   "cell_type": "markdown",
   "metadata": {},
   "source": [
    "### The `Input` Subclass"
   ]
  },
  {
   "cell_type": "code",
   "execution_count": 6,
   "metadata": {
    "collapsed": true
   },
   "outputs": [],
   "source": [
    "class Input(Node):\n",
    "    def __init__(self):\n",
    "        # An Input node has no inbound nodes,\n",
    "        # so no need to pass anything to the Node instantiator.\n",
    "        Node.__init__(self)\n",
    "        \n",
    "    # NOTE: Input node is the only node where the value\n",
    "    # may be passed as an argument to forward().\n",
    "    #\n",
    "    # All other node implementations should get the value\n",
    "    # of the previous node from self.inbound_nodes\n",
    "    #\n",
    "    # Example:\n",
    "    # val0 = self.inbound_nodes[0].value\n",
    "    def forawrd(self, value=None):\n",
    "        # Overwrite the value if one is passed in.\n",
    "        if value is not None:\n",
    "            self.value = value"
   ]
  },
  {
   "cell_type": "markdown",
   "metadata": {},
   "source": [
    "Unlike the other subclasses of `Node`, the `Input` subclass does not actually calculate anything. The `Input` subclass just holds a `value`, such as a data feature or a model parameter (weight/bias).\n",
    "\n",
    "The `value` can be either set explicitly or with the `forward()` method. This value is then fed through the rest of the neural network."
   ]
  },
  {
   "cell_type": "markdown",
   "metadata": {},
   "source": [
    "### The `Add` Subclass"
   ]
  },
  {
   "cell_type": "markdown",
   "metadata": {},
   "source": [
    "`Add`, which is another subclass of `Node`, actually can perform a calculation (addition)."
   ]
  },
  {
   "cell_type": "code",
   "execution_count": 7,
   "metadata": {
    "collapsed": true
   },
   "outputs": [],
   "source": [
    "class Add(Node):\n",
    "    def __init(self, x, y):\n",
    "        # Pass the inbound_nodes list [x, y] to \n",
    "        # the Node instantiator. The Add subclass takes two\n",
    "        # inbound nodes, x and y, and adds the values of those nodes.\n",
    "        Node.__init__(self, [x, y]) \n",
    "        \n",
    "    def forward(self):\n",
    "        \"\"\"\n",
    "        You'll be writing code here in \n",
    "        \"\"\""
   ]
  },
  {
   "cell_type": "code",
   "execution_count": null,
   "metadata": {
    "collapsed": true
   },
   "outputs": [],
   "source": []
  }
 ],
 "metadata": {
  "kernelspec": {
   "display_name": "Python 3",
   "language": "python",
   "name": "python3"
  },
  "language_info": {
   "codemirror_mode": {
    "name": "ipython",
    "version": 3
   },
   "file_extension": ".py",
   "mimetype": "text/x-python",
   "name": "python",
   "nbconvert_exporter": "python",
   "pygments_lexer": "ipython3",
   "version": "3.5.2"
  }
 },
 "nbformat": 4,
 "nbformat_minor": 2
}
